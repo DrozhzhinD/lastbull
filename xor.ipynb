{
 "cells": [
  {
   "cell_type": "code",
   "execution_count": 2,
   "metadata": {},
   "outputs": [],
   "source": [
    "import tensorflow\n",
    "import numpy\n",
    "from random import randint"
   ]
  },
  {
   "cell_type": "code",
   "execution_count": 3,
   "metadata": {},
   "outputs": [],
   "source": [
    "def initModel(num_of_epoch=100):\n",
    "    inp = [[1, 0], [-1, 1], [-1, 1], [1, 1]]\n",
    "    inputTensor = tensorflow.constant(inp, shape=(len(inp), 2))\n",
    "    oup = [[1], [-1], [1], [-1]]\n",
    "    outputTensor = tensorflow.constant(oup, shape=(len(oup), 1))\n",
    "    model = tensorflow.keras.Sequential()\n",
    "    model.add(tensorflow.keras.layers.Dense(units=2, input_shape=(2,), activation='sigmoid'))\n",
    "    model.add(tensorflow.keras.layers.Dense(units=1, activation='sigmoid'))\n",
    "    model.compile(optimizer=tensorflow.keras.optimizers.Adam(0.1), loss='mean_squared_error')\n",
    "    model.fit(inputTensor, outputTensor, epochs=num_of_epoch, shuffle=True, callbacks=[LossHistoryCallback()])\n",
    "    return model\n",
    "\n",
    "class LossHistoryCallback(tensorflow.keras.callbacks.Callback):\n",
    "    def on_epoch_end(self, epoch, logs=None):\n",
    "        loss = logs['loss']\n",
    "\n",
    "def generateInputs(num):\n",
    "    return [[randint(-10, 10), randint(-10, 10)] for _ in range(num)]\n"
   ]
  }
 ],
 "metadata": {
  "kernelspec": {
   "display_name": "Python 3",
   "language": "python",
   "name": "python3"
  },
  "language_info": {
   "codemirror_mode": {
    "name": "ipython",
    "version": 3
   },
   "file_extension": ".py",
   "mimetype": "text/x-python",
   "name": "python",
   "nbconvert_exporter": "python",
   "pygments_lexer": "ipython3",
   "version": "3.11.5"
  }
 },
 "nbformat": 4,
 "nbformat_minor": 2
}
