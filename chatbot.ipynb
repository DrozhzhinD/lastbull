{
 "cells": [
  {
   "cell_type": "code",
   "execution_count": 3,
   "metadata": {},
   "outputs": [],
   "source": [
    "from sklearn.feature_extraction.text import TfidfVectorizer\n",
    "from sklearn.metrics.pairwise import cosine_similarity\n",
    "import numpy as np"
   ]
  },
  {
   "cell_type": "code",
   "execution_count": 4,
   "metadata": {},
   "outputs": [
    {
     "name": "stdout",
     "output_type": "stream",
     "text": [
      "Прекрасно, спасибо!\n"
     ]
    }
   ],
   "source": [
    "# Набор данных вопросов и ответов\n",
    "questions = [\n",
    "    \"Как дела?\",\n",
    "    \"Что делаешь?\",\n",
    "    \"Что нового?\",\n",
    "    # Добавьте больше вопросов\n",
    "]\n",
    "\n",
    "answers = [\n",
    "    \"Прекрасно, спасибо!\",\n",
    "    \"Я отвечаю на вопросы.\",\n",
    "    \"Не так много, а у вас?\",\n",
    "    # Добавьте соответствующие ответы\n",
    "]\n",
    "\n",
    "# Создание TF-IDF векторайзера\n",
    "vectorizer = TfidfVectorizer()\n",
    "X = vectorizer.fit_transform(questions)\n",
    "\n",
    "def get_response(input_question):\n",
    "    # Предобработка входного вопроса\n",
    "    input_question = [input_question]\n",
    "\n",
    "    # Вычисление TF-IDF вектора для входного вопроса\n",
    "    input_vector = vectorizer.transform(input_question)\n",
    "\n",
    "    # Вычисление косинусного сходства между входным вопросом и набором вопросов\n",
    "    similarities = cosine_similarity(input_vector, X)\n",
    "\n",
    "    # Находим самый похожий вопрос\n",
    "    closest = np.argmax(similarities)\n",
    "\n",
    "    # Возвращаем соответствующий ответ\n",
    "    return answers[closest]\n",
    "\n",
    "# Пример использования\n",
    "user_question = \"Как дела у тебя?\"\n",
    "response = get_response(user_question)\n",
    "print(response)\n"
   ]
  }
 ],
 "metadata": {
  "kernelspec": {
   "display_name": "Python 3",
   "language": "python",
   "name": "python3"
  },
  "language_info": {
   "codemirror_mode": {
    "name": "ipython",
    "version": 3
   },
   "file_extension": ".py",
   "mimetype": "text/x-python",
   "name": "python",
   "nbconvert_exporter": "python",
   "pygments_lexer": "ipython3",
   "version": "3.10.0"
  }
 },
 "nbformat": 4,
 "nbformat_minor": 2
}
