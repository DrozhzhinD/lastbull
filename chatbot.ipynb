{
 "cells": [
  {
   "cell_type": "code",
   "execution_count": 1,
   "metadata": {},
   "outputs": [],
   "source": [
    "from sklearn.feature_extraction.text import TfidfVectorizer\n",
    "from sklearn.metrics.pairwise import cosine_similarity\n",
    "import numpy as np\n",
    "import pandas as pd"
   ]
  },
  {
   "cell_type": "code",
   "execution_count": 2,
   "metadata": {},
   "outputs": [
    {
     "name": "stdout",
     "output_type": "stream",
     "text": [
      "Добрый день, чем могу помочь?\n",
      "Большое спасибо!\n",
      "Браво 6, рубим свет.\n",
      "Добрый день, чем могу помочь?\n",
      "Сейчас у меня нет выхода в интернет, непременно задайте мне этот вопрос через годик!\n",
      "Конечно! А вы не видели?\n",
      "Очень жаль.\n",
      "Очень жаль.\n",
      "Очень здорово.\n",
      "Очень здорово.\n",
      "Хорошего дня!\n"
     ]
    }
   ],
   "source": [
    "data = pd.read_csv(\"questions_dataset.csv\")\n",
    "questions = data[\"questions\"].tolist()\n",
    "answers = data[\"answers\"].tolist()\n",
    "\n",
    "vectorizer = TfidfVectorizer()\n",
    "X = vectorizer.fit_transform(questions)\n",
    "\n",
    "def get_response(input_question):\n",
    "    input_question = [input_question]\n",
    "    input_vector = vectorizer.transform(input_question)\n",
    "    similarities = cosine_similarity(input_vector, X)\n",
    "    closest = np.argmax(similarities)\n",
    "    return answers[closest]\n",
    "\n",
    "\n",
    "\n",
    "while True:\n",
    "    user_question = input()\n",
    "    response = get_response(user_question)\n",
    "    print(response)\n",
    "    if user_question == \"Пока\" or user_question == \"Отмена\":\n",
    "        break\n",
    "# tfidf"
   ]
  },
  {
   "cell_type": "code",
   "execution_count": 3,
   "metadata": {},
   "outputs": [
    {
     "name": "stderr",
     "output_type": "stream",
     "text": [
      "[nltk_data] Downloading package stopwords to C:\\Users\\Dmitriy\n",
      "[nltk_data]     Drozhzhin\\AppData\\Roaming\\nltk_data...\n",
      "[nltk_data]   Package stopwords is already up-to-date!\n",
      "c:\\Users\\Dmitriy Drozhzhin\\AppData\\Local\\Programs\\Python\\Python310\\lib\\site-packages\\tqdm\\auto.py:21: TqdmWarning: IProgress not found. Please update jupyter and ipywidgets. See https://ipywidgets.readthedocs.io/en/stable/user_install.html\n",
      "  from .autonotebook import tqdm as notebook_tqdm\n"
     ]
    }
   ],
   "source": [
    "import torch\n",
    "import torch.nn as nn\n",
    "import torch.optim as optim\n",
    "import nltk\n",
    "import spacy\n",
    "import pymorphy2\n",
    "nltk.download('stopwords')\n",
    "from nltk.corpus import stopwords\n",
    "from transformers import BertTokenizer\n",
    "from transformers import BertForSequenceClassification"
   ]
  },
  {
   "cell_type": "code",
   "execution_count": 4,
   "metadata": {},
   "outputs": [
    {
     "name": "stderr",
     "output_type": "stream",
     "text": [
      "c:\\Users\\Dmitriy Drozhzhin\\AppData\\Local\\Programs\\Python\\Python310\\lib\\site-packages\\torch\\nn\\modules\\transformer.py:282: UserWarning: enable_nested_tensor is True, but self.use_nested_tensor is False because encoder_layer.self_attn.batch_first was not True(use batch_first for better inference performance)\n",
      "  warnings.warn(f\"enable_nested_tensor is True, but self.use_nested_tensor is False because {why_not_sparsity_fast_path}\")\n"
     ]
    },
    {
     "name": "stdout",
     "output_type": "stream",
     "text": [
      "Добрый день, чем могу помочь?\n"
     ]
    },
    {
     "name": "stderr",
     "output_type": "stream",
     "text": [
      "c:\\Users\\Dmitriy Drozhzhin\\AppData\\Local\\Programs\\Python\\Python310\\lib\\site-packages\\torch\\nn\\modules\\transformer.py:282: UserWarning: enable_nested_tensor is True, but self.use_nested_tensor is False because encoder_layer.self_attn.batch_first was not True(use batch_first for better inference performance)\n",
      "  warnings.warn(f\"enable_nested_tensor is True, but self.use_nested_tensor is False because {why_not_sparsity_fast_path}\")\n"
     ]
    },
    {
     "name": "stdout",
     "output_type": "stream",
     "text": [
      "Хорошего дня!\n",
      "Прекрасно, спасибо!\n",
      "Прекрасно, спасибо!\n",
      "Прекрасно, спасибо!\n",
      "Хорошего дня!\n"
     ]
    }
   ],
   "source": [
    "def preprocess_input(user_input):\n",
    "    nlp = spacy.load(\"ru_core_news_sm\")\n",
    "    stopwords_ru = stopwords.words('russian')\n",
    "    morph = pymorphy2.MorphAnalyzer()\n",
    "\n",
    "    \n",
    "    result = [morph.parse(token.text.lower())[0].normal_form for token in nlp(user_input)\n",
    "               if not token.is_punct and token.text.lower() not in stopwords_ru]\n",
    "\n",
    "\n",
    "    return result\n",
    "\n",
    "def vectorize_input(processed_input):\n",
    "    from transformers import BertTokenizer\n",
    "    model_name = 'DeepPavlov/rubert-base-cased'\n",
    "    tokenizer = BertTokenizer.from_pretrained(model_name)\n",
    "    result = tokenizer.encode_plus(processed_input)['input_ids']\n",
    "\n",
    "    return result\n",
    "\n",
    "\n",
    "def postprocess_output(output_tensor):\n",
    "    labels = answers[:]\n",
    "    _, predicted_index = torch.max(output_tensor, dim=1)\n",
    "    output_label = labels[predicted_index.item()]\n",
    "    return output_label\n",
    "\n",
    "\n",
    "class Transformer(nn.Module):\n",
    "    def __init__(self, input_dim, hidden_dim, output_dim, num_layers, num_heads, dropout):\n",
    "        super(Transformer, self).__init__()\n",
    "        self.encoder = nn.TransformerEncoder(\n",
    "            nn.TransformerEncoderLayer(input_dim, num_heads, hidden_dim, dropout),\n",
    "            num_layers)\n",
    "        self.linear = nn.Linear(hidden_dim, output_dim)\n",
    "        \n",
    "    def forward(self, x):\n",
    "        x = self.encoder(x)\n",
    "        x = self.linear(x)\n",
    "        return x\n",
    "\n",
    "num_epochs = 3\n",
    "batch_size = 1 \n",
    "\n",
    "while True:\n",
    "    user_input = input()\n",
    "\n",
    "    processed_input = preprocess_input(user_input)\n",
    "    vectorized_input = vectorize_input(processed_input)\n",
    "\n",
    "    input_tensor = torch.tensor(vectorized_input).unsqueeze(0)\n",
    "\n",
    "    input_dim = len(vectorized_input)\n",
    "    hidden_dim = len(vectorized_input)\n",
    "    output_dim = len(vectorized_input)\n",
    "    num_layers = 4 \n",
    "    num_heads = 1 \n",
    "    dropout = 0.2 \n",
    "\n",
    "    model = Transformer(input_dim, hidden_dim, output_dim, num_layers, num_heads, dropout)\n",
    "\n",
    "    criterion = nn.CrossEntropyLoss()\n",
    "    optimizer = optim.Adam(model.parameters(), lr=0.001)\n",
    "\n",
    "    for epoch in range(num_epochs):\n",
    "        running_loss = 0.0\n",
    "        \n",
    "        input_tensor = torch.tensor(vectorized_input, dtype=torch.float).unsqueeze(0)\n",
    "        output_tensor = model(input_tensor)\n",
    "        \n",
    "        optimizer.zero_grad()\n",
    "        \n",
    "        output = postprocess_output(output_tensor)\n",
    "\n",
    "    print(output)\n",
    "    if user_input == \"Пока\" or user_input == \"Отмена\":\n",
    "        break\n",
    "# transformers"
   ]
  },
  {
   "cell_type": "code",
   "execution_count": 10,
   "metadata": {},
   "outputs": [
    {
     "name": "stderr",
     "output_type": "stream",
     "text": [
      "Some weights of BertForSequenceClassification were not initialized from the model checkpoint at DeepPavlov/rubert-base-cased and are newly initialized: ['classifier.weight', 'classifier.bias']\n",
      "You should probably TRAIN this model on a down-stream task to be able to use it for predictions and inference.\n"
     ]
    },
    {
     "name": "stdout",
     "output_type": "stream",
     "text": [
      "Добрый день, чем могу помочь?\n",
      "Добрый день, чем могу помочь?\n",
      "Добрый день, чем могу помочь?\n",
      "Добрый день, чем могу помочь?\n"
     ]
    }
   ],
   "source": [
    "data = pd.read_csv(\"questions_dataset.csv\")\n",
    "questions = data[\"questions\"].tolist()\n",
    "answers = data[\"answers\"].tolist()\n",
    "\n",
    "vectorizer = TfidfVectorizer()\n",
    "X = vectorizer.fit_transform(questions)\n",
    "\n",
    "tokenizer = BertTokenizer.from_pretrained('DeepPavlov/rubert-base-cased')\n",
    "model = BertForSequenceClassification.from_pretrained('DeepPavlov/rubert-base-cased')\n",
    "\n",
    "def preprocess_input(user_input):\n",
    "    inputs = tokenizer(user_input, return_tensors=\"pt\")\n",
    "    return inputs\n",
    "\n",
    "def generate_response(input_tensor):\n",
    "    outputs = model(**input_tensor)\n",
    "    predicted_label = torch.argmax(outputs.logits, dim=1).item()\n",
    "    return answers[predicted_label]\n",
    "\n",
    "while True:\n",
    "    user_question = input()\n",
    "    input_tensor = preprocess_input(user_question)\n",
    "    response = generate_response(input_tensor)\n",
    "    print(response)\n",
    "    if user_question == \"Пока\" or user_question == \"Отмена\":\n",
    "        break\n",
    "# hybrid\n"
   ]
  }
 ],
 "metadata": {
  "kernelspec": {
   "display_name": "Python 3",
   "language": "python",
   "name": "python3"
  },
  "language_info": {
   "codemirror_mode": {
    "name": "ipython",
    "version": 3
   },
   "file_extension": ".py",
   "mimetype": "text/x-python",
   "name": "python",
   "nbconvert_exporter": "python",
   "pygments_lexer": "ipython3",
   "version": "3.10.0"
  }
 },
 "nbformat": 4,
 "nbformat_minor": 2
}
