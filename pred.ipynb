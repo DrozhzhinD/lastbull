{
 "cells": [
  {
   "cell_type": "code",
   "execution_count": 9,
   "metadata": {},
   "outputs": [],
   "source": [
    "import spacy\n",
    "nlp = spacy.load('ru_core_news_sm')\n",
    "nlp.max_length = 1222100000\n",
    "from sklearn.feature_extraction.text import TfidfVectorizer\n",
    "from sklearn.metrics.pairwise import cosine_similarity"
   ]
  },
  {
   "cell_type": "code",
   "execution_count": 10,
   "metadata": {},
   "outputs": [],
   "source": [
    "with open('na-dne1902.txt', 'r', encoding='utf-8', errors='ignore') as file: \n",
    "    text1 = file.read()\n",
    "with open('chelkash1904.txt', 'r', errors='ignore') as file: \n",
    "    text2 = file.read()  \n",
    "with open('deti1905.txt', 'r', encoding='utf-8', errors='ignore') as file: \n",
    "    text3 = file.read() \n",
    "with open('mat1906.txt', 'r', errors='ignore') as file: \n",
    "    text4 = file.read() \n",
    "with open('detstvo1913.txt', 'r', errors='ignore') as file: \n",
    "    text5 = file.read() \n",
    "with open('univer1922.txt', 'r', errors='ignore') as file: \n",
    "    text6 = file.read() \n"
   ]
  },
  {
   "cell_type": "code",
   "execution_count": 11,
   "metadata": {},
   "outputs": [
    {
     "name": "stdout",
     "output_type": "stream",
     "text": [
      "Сходство между текст 1 и текст 2:  0.13773731253366214\n",
      "Сходство между текст 1 и текст 3:  0.1514723614316846\n",
      "Сходство между текст 1 и текст 4:  0.31136013372640203\n",
      "Сходство между текст 1 и текст 5:  0.2724993324336202\n",
      "Сходство между текст 1 и текст 6:  0.351786756887134\n",
      "Сходство между текст 2 и текст 3:  0.11042674141688409\n",
      "Сходство между текст 2 и текст 4:  0.341162011900092\n",
      "Сходство между текст 2 и текст 5:  0.29920598072623983\n",
      "Сходство между текст 2 и текст 6:  0.3556438173995143\n",
      "Сходство между текст 3 и текст 4:  0.2579618013076894\n",
      "Сходство между текст 3 и текст 5:  0.20443232408579753\n",
      "Сходство между текст 3 и текст 6:  0.2643453380379951\n",
      "Сходство между текст 4 и текст 5:  0.6430544976968123\n",
      "Сходство между текст 4 и текст 6:  0.6983609951849521\n",
      "Сходство между текст 5 и текст 6:  0.6808831614264731\n"
     ]
    }
   ],
   "source": [
    "def preprocession(text):\n",
    "    doc = nlp(text)\n",
    "    tokens = [token.lemma_.lower() for token in doc if not token.is_stop and token.is_alpha]\n",
    "    return \" \".join(tokens)\n",
    "\n",
    "# def calculate_similarity(texts):\n",
    "#     vectorizer = TfidfVectorizer()\n",
    "#     vectorized_documents = vectorizer.fit_transform(texts)\n",
    "#     similarity_matrix = cosine_similarity(vectorized_documents)\n",
    "#     return similarity_matrix\n",
    "\n",
    "def cosinus_similar(t1, t2):\n",
    "    vectorizer = TfidfVectorizer()\n",
    "    vectorized_documents = vectorizer.fit_transform([t1, t2])\n",
    "    return cosine_similarity(vectorized_documents[0:1], vectorized_documents[1:2])[0,0]\n",
    "\n",
    "texts = [text1, text2, text3, text4, text5, text6]  \n",
    "\n",
    "for i in range(len(texts)):\n",
    "    for j in range(i + 1, len(texts)):  \n",
    "        t1 = preprocession(texts[i])\n",
    "        t2 = preprocession(texts[j])\n",
    "        print(f\"Сходство между текст {i+1} и текст {j+1}: \", cosinus_similar(t1, t2))"
   ]
  },
  {
   "cell_type": "code",
   "execution_count": 12,
   "metadata": {},
   "outputs": [],
   "source": [
    "# text_1 = preprocession(text1)\n",
    "# text_2 = preprocession(text2)\n",
    "\n",
    "# cosinus_similar(text_1, text_2)"
   ]
  }
 ],
 "metadata": {
  "kernelspec": {
   "display_name": "Python 3",
   "language": "python",
   "name": "python3"
  },
  "language_info": {
   "codemirror_mode": {
    "name": "ipython",
    "version": 3
   },
   "file_extension": ".py",
   "mimetype": "text/x-python",
   "name": "python",
   "nbconvert_exporter": "python",
   "pygments_lexer": "ipython3",
   "version": "3.10.0"
  }
 },
 "nbformat": 4,
 "nbformat_minor": 2
}
